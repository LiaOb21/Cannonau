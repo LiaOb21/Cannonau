{
 "cells": [
  {
   "cell_type": "code",
   "execution_count": 1,
   "metadata": {},
   "outputs": [],
   "source": [
    "# import libraries\n",
    "import pandas as pd\n",
    "import gffpandas.gffpandas as gffpd"
   ]
  },
  {
   "cell_type": "code",
   "execution_count": 2,
   "metadata": {},
   "outputs": [],
   "source": [
    "# Upload assembly gff file\n",
    "asm = gffpd.read_gff3(\"adj_primary.fasta_liftoff_out.gff3\")\n",
    "# Retain only gene features in assembly gff file\n",
    "gene_asm = asm.filter_feature_of_type(['gene']).to_tsv('primary_temp.tsv')\n",
    "gene_asm = pd.read_table('primary_temp.tsv')\n",
    "# Split attributes column into two columns\n",
    "gene_asm[['gene_id', 'attributes']] = gene_asm['attributes'].str.split(pat=';', expand=True, n=1)\n",
    "# Filter columns to retain only gene_id, seq_id, type, start, end, strand\n",
    "gene_asm_filt = gene_asm.filter(['seq_id', 'type', 'start', 'end', 'strand', 'gene_id'])\n",
    "# add 'asm' prefix to column names\n",
    "gene_asm_filt = gene_asm_filt.add_prefix('asm_')"
   ]
  },
  {
   "cell_type": "code",
   "execution_count": 3,
   "metadata": {},
   "outputs": [
    {
     "name": "stdout",
     "output_type": "stream",
     "text": [
      "      asm_seq_id asm_type  asm_start   asm_end asm_strand  \\\n",
      "0         chr_18     gene      50272     54591          +   \n",
      "1         chr_18     gene      55313     56493          +   \n",
      "2         chr_18     gene      75253     76046          +   \n",
      "3         chr_18     gene      79894     86835          +   \n",
      "4         chr_18     gene      87616    111056          +   \n",
      "...          ...      ...        ...       ...        ...   \n",
      "26965     chr_12     gene   26344665  26375113          +   \n",
      "26966     chr_12     gene   26353254  26353372          +   \n",
      "26967     chr_12     gene   26375023  26388046          -   \n",
      "26968     chr_12     gene   26400552  26433702          +   \n",
      "26969     chr_12     gene   26435449  26451406          -   \n",
      "\n",
      "                asm_gene_id  \n",
      "0      ID=gene-LOC100244872  \n",
      "1      ID=gene-LOC100248269  \n",
      "2      ID=gene-LOC132254911  \n",
      "3      ID=gene-LOC100267182  \n",
      "4      ID=gene-LOC100244867  \n",
      "...                     ...  \n",
      "26965  ID=gene-LOC100245514  \n",
      "26966  ID=gene-LOC132254831  \n",
      "26967  ID=gene-LOC100262534  \n",
      "26968  ID=gene-LOC100252276  \n",
      "26969  ID=gene-LOC100267823  \n",
      "\n",
      "[26970 rows x 6 columns]\n"
     ]
    }
   ],
   "source": [
    "print(gene_asm_filt)"
   ]
  },
  {
   "cell_type": "code",
   "execution_count": 4,
   "metadata": {},
   "outputs": [
    {
     "name": "stdout",
     "output_type": "stream",
     "text": [
      "      ref_seq_id ref_type  ref_start   ref_end ref_strand  \\\n",
      "0         chr_01     gene      16041     32947          +   \n",
      "1         chr_01     gene      37289     41411          +   \n",
      "2         chr_01     gene      53915     63050          +   \n",
      "3         chr_01     gene      66246     66840          -   \n",
      "4         chr_01     gene      88278    104293          -   \n",
      "...          ...      ...        ...       ...        ...   \n",
      "27899     chr_19     gene   27035382  27035763          +   \n",
      "27900     chr_19     gene   27043031  27063568          +   \n",
      "27901     chr_19     gene   27064010  27078905          +   \n",
      "27902     chr_19     gene   27111234  27121227          +   \n",
      "27903     chr_19     gene   27143977  27145739          -   \n",
      "\n",
      "                ref_gene_id                                     ref_attributes  \n",
      "0      ID=gene-LOC104879287  Dbxref=GeneID:104879287;Name=LOC104879287;desc...  \n",
      "1      ID=gene-LOC100259472  Dbxref=GeneID:100259472;Name=LOC100259472;desc...  \n",
      "2      ID=gene-LOC100257674  Dbxref=GeneID:100257674;Name=LOC100257674;desc...  \n",
      "3      ID=gene-LOC104879282  Dbxref=GeneID:104879282;Name=LOC104879282;desc...  \n",
      "4      ID=gene-LOC100254292  Dbxref=GeneID:100254292;Name=LOC100254292;desc...  \n",
      "...                     ...                                                ...  \n",
      "27899  ID=gene-LOC100265574  Dbxref=GeneID:100265574;Name=LOC100265574;desc...  \n",
      "27900  ID=gene-LOC100260359  Dbxref=GeneID:100260359;Name=LOC100260359;desc...  \n",
      "27901  ID=gene-LOC100258729  Dbxref=GeneID:100258729;Name=LOC100258729;desc...  \n",
      "27902  ID=gene-LOC100248481  Dbxref=GeneID:100248481;Name=LOC100248481;desc...  \n",
      "27903  ID=gene-LOC100255276  Dbxref=GeneID:100255276;Name=LOC100255276;desc...  \n",
      "\n",
      "[27904 rows x 7 columns]\n"
     ]
    },
    {
     "name": "stderr",
     "output_type": "stream",
     "text": [
      "/tmp/ipykernel_27100/3273317542.py:17: UserWarning: This pattern is interpreted as a regular expression, and has match groups. To actually get the groups, use str.extract.\n",
      "  gene_ref_filt = gene_ref_filt[gene_ref_filt['ref_seq_id'].str.contains(pattern)]\n"
     ]
    }
   ],
   "source": [
    "# upload reference gff file\n",
    "ref = gffpd.read_gff3(\"adj_reference.gff\")\n",
    "# retain only gene features in reference gff file\n",
    "gene_ref = ref.filter_feature_of_type(['gene']).to_tsv('reference_temp.tsv')\n",
    "# split attributes column into two columns\n",
    "gene_ref = pd.read_table('reference_temp.tsv')\n",
    "gene_ref[['gene_id', 'attributes']] = gene_ref['attributes'].str.split(pat=';', expand=True, n=1)\n",
    "# filter columns to retain only gene_id, seq_id, type, start, end, strand, attributes\n",
    "gene_ref_filt = gene_ref.filter(['seq_id', 'type', 'start', 'end', 'strand', 'gene_id', 'attributes'])\n",
    "# add 'ref' prefix to column names\n",
    "gene_ref_filt = gene_ref_filt.add_prefix('ref_')\n",
    "\n",
    "# Define the regular expression to match 'chr_**' where '**' is a number between '01' and '19'\n",
    "pattern = r'^chr_([0][1-9]|1[0-9])$'\n",
    "\n",
    "# Filter the DataFrame\n",
    "gene_ref_filt = gene_ref_filt[gene_ref_filt['ref_seq_id'].str.contains(pattern)]\n",
    "\n",
    "# Print the filtered DataFrame\n",
    "print(gene_ref_filt)\n"
   ]
  },
  {
   "cell_type": "code",
   "execution_count": 5,
   "metadata": {},
   "outputs": [],
   "source": [
    "# merge filtered reference and assembly gff files and sort by ref_seq_id and ref_start\n",
    "merged = pd.merge(gene_asm_filt, gene_ref_filt, how=\"inner\", left_on='asm_gene_id', right_on='ref_gene_id')"
   ]
  },
  {
   "cell_type": "code",
   "execution_count": 6,
   "metadata": {},
   "outputs": [
    {
     "name": "stdout",
     "output_type": "stream",
     "text": [
      "      asm_seq_id asm_type  asm_start   asm_end asm_strand  \\\n",
      "0         chr_18     gene      50272     54591          +   \n",
      "1         chr_18     gene      55313     56493          +   \n",
      "2         chr_18     gene      75253     76046          +   \n",
      "3         chr_18     gene      79894     86835          +   \n",
      "4         chr_18     gene      87616    111056          +   \n",
      "...          ...      ...        ...       ...        ...   \n",
      "26846     chr_12     gene   26344665  26375113          +   \n",
      "26847     chr_12     gene   26353254  26353372          +   \n",
      "26848     chr_12     gene   26375023  26388046          -   \n",
      "26849     chr_12     gene   26400552  26433702          +   \n",
      "26850     chr_12     gene   26435449  26451406          -   \n",
      "\n",
      "                asm_gene_id ref_seq_id ref_type  ref_start   ref_end  \\\n",
      "0      ID=gene-LOC100244872     chr_18     gene   36624063  36628394   \n",
      "1      ID=gene-LOC100248269     chr_18     gene   36622149  36623341   \n",
      "2      ID=gene-LOC132254911     chr_13     gene   20719485  20720479   \n",
      "3      ID=gene-LOC100267182     chr_18     gene   36591853  36598793   \n",
      "4      ID=gene-LOC100244867     chr_18     gene   36562115  36591072   \n",
      "...                     ...        ...      ...        ...       ...   \n",
      "26846  ID=gene-LOC100245514     chr_12     gene   23835104  23865479   \n",
      "26847  ID=gene-LOC132254831     chr_12     gene   23843702  23843820   \n",
      "26848  ID=gene-LOC100262534     chr_12     gene   23865384  23878326   \n",
      "26849  ID=gene-LOC100252276     chr_12     gene   23890644  23918785   \n",
      "26850  ID=gene-LOC100267823     chr_12     gene   23920895  23929855   \n",
      "\n",
      "      ref_strand           ref_gene_id  \\\n",
      "0              -  ID=gene-LOC100244872   \n",
      "1              -  ID=gene-LOC100248269   \n",
      "2              -  ID=gene-LOC132254911   \n",
      "3              -  ID=gene-LOC100267182   \n",
      "4              -  ID=gene-LOC100244867   \n",
      "...          ...                   ...   \n",
      "26846          +  ID=gene-LOC100245514   \n",
      "26847          +  ID=gene-LOC132254831   \n",
      "26848          -  ID=gene-LOC100262534   \n",
      "26849          +  ID=gene-LOC100252276   \n",
      "26850          -  ID=gene-LOC100267823   \n",
      "\n",
      "                                          ref_attributes  \n",
      "0      Dbxref=GeneID:100244872;Name=LOC100244872;desc...  \n",
      "1      Dbxref=GeneID:100248269;Name=LOC100248269;desc...  \n",
      "2      Dbxref=GeneID:132254911;Name=LOC132254911;desc...  \n",
      "3      Dbxref=GeneID:100267182;Name=LOC100267182;desc...  \n",
      "4      Dbxref=GeneID:100244867;Name=LOC100244867;desc...  \n",
      "...                                                  ...  \n",
      "26846  Dbxref=GeneID:100245514;Name=LOC100245514;desc...  \n",
      "26847  Dbxref=GeneID:132254831;Name=LOC132254831;desc...  \n",
      "26848  Dbxref=GeneID:100262534;Name=LOC100262534;desc...  \n",
      "26849  Dbxref=GeneID:100252276;Name=LOC100252276;desc...  \n",
      "26850  Dbxref=GeneID:100267823;Name=LOC100267823;desc...  \n",
      "\n",
      "[26851 rows x 13 columns]\n"
     ]
    }
   ],
   "source": [
    "print(merged)"
   ]
  },
  {
   "cell_type": "code",
   "execution_count": 7,
   "metadata": {},
   "outputs": [
    {
     "name": "stdout",
     "output_type": "stream",
     "text": [
      "asm_seq_id\n",
      "chr_01    1618\n",
      "chr_02    1123\n",
      "chr_03    1174\n",
      "chr_04    1524\n",
      "chr_05    1506\n",
      "chr_06    1437\n",
      "chr_07    1965\n",
      "chr_08    1614\n",
      "chr_09    1143\n",
      "chr_10    1356\n",
      "chr_11    1138\n",
      "chr_12    1231\n",
      "chr_13    1514\n",
      "chr_14    1703\n",
      "chr_15     972\n",
      "chr_16    1175\n",
      "chr_17    1329\n",
      "chr_18    2109\n",
      "chr_19    1220\n",
      "dtype: int64\n"
     ]
    }
   ],
   "source": [
    "# Group by 'asm_seq_id' and count the number of rows in each group\n",
    "row_counts = merged.groupby('asm_seq_id').size()\n",
    "\n",
    "# Print the result\n",
    "print(row_counts)"
   ]
  },
  {
   "cell_type": "code",
   "execution_count": 8,
   "metadata": {},
   "outputs": [
    {
     "name": "stdout",
     "output_type": "stream",
     "text": [
      "ref_seq_id\n",
      "chr_01    1620\n",
      "chr_02    1166\n",
      "chr_03    1192\n",
      "chr_04    1542\n",
      "chr_05    1554\n",
      "chr_06    1477\n",
      "chr_07    2025\n",
      "chr_08    1640\n",
      "chr_09    1208\n",
      "chr_10    1476\n",
      "chr_11    1123\n",
      "chr_12    1335\n",
      "chr_13    1633\n",
      "chr_14    1783\n",
      "chr_15    1071\n",
      "chr_16    1294\n",
      "chr_17    1350\n",
      "chr_18    2173\n",
      "chr_19    1242\n",
      "dtype: int64\n"
     ]
    }
   ],
   "source": [
    "# Group by 'asm_seq_id' and count the number of rows in each group\n",
    "row_counts_ref = gene_ref_filt.groupby('ref_seq_id').size()\n",
    "\n",
    "# Print the result\n",
    "print(row_counts_ref)"
   ]
  },
  {
   "cell_type": "code",
   "execution_count": 9,
   "metadata": {},
   "outputs": [
    {
     "name": "stdout",
     "output_type": "stream",
     "text": [
      "      asm_seq_id asm_type  asm_start   asm_end asm_strand  \\\n",
      "2         chr_18     gene      75253     76046          +   \n",
      "44        chr_18     gene     521246    523503          +   \n",
      "54        chr_18     gene     755682    756076          -   \n",
      "55        chr_18     gene     756777    761140          -   \n",
      "58        chr_18     gene     827910    831535          +   \n",
      "...          ...      ...        ...       ...        ...   \n",
      "26814     chr_12     gene   24830664  24831344          +   \n",
      "26815     chr_12     gene   24898074  24899178          +   \n",
      "26818     chr_12     gene   25328122  25328597          -   \n",
      "26820     chr_12     gene   25679329  25680850          +   \n",
      "26823     chr_12     gene   25803768  25803820          +   \n",
      "\n",
      "                asm_gene_id ref_seq_id ref_type  ref_start   ref_end  \\\n",
      "2      ID=gene-LOC132254911     chr_13     gene   20719485  20720479   \n",
      "44     ID=gene-LOC104879996     chr_08     gene    4612852   4615109   \n",
      "54     ID=gene-LOC132254321     chr_09     gene   17523763  17524157   \n",
      "55     ID=gene-LOC132252805     chr_17     gene   10158003  10162366   \n",
      "58     ID=gene-LOC104879311     chr_05     gene    8959535   8963162   \n",
      "...                     ...        ...      ...        ...       ...   \n",
      "26814  ID=gene-LOC109124022     chr_15     gene    2057793   2058473   \n",
      "26815  ID=gene-LOC100854523     chr_13     gene    3902419   3903534   \n",
      "26818  ID=gene-LOC104882024     chr_16     gene   14633127  14633601   \n",
      "26820  ID=gene-LOC100245342     chr_15     gene    2056092   2057612   \n",
      "26823  ID=gene-TRNAP-UGG-15     chr_19     gene   24482644  24482717   \n",
      "\n",
      "      ref_strand           ref_gene_id  \\\n",
      "2              -  ID=gene-LOC132254911   \n",
      "44             -  ID=gene-LOC104879996   \n",
      "54             +  ID=gene-LOC132254321   \n",
      "55             -  ID=gene-LOC132252805   \n",
      "58             +  ID=gene-LOC104879311   \n",
      "...          ...                   ...   \n",
      "26814          +  ID=gene-LOC109124022   \n",
      "26815          -  ID=gene-LOC100854523   \n",
      "26818          -  ID=gene-LOC104882024   \n",
      "26820          +  ID=gene-LOC100245342   \n",
      "26823          -  ID=gene-TRNAP-UGG-15   \n",
      "\n",
      "                                          ref_attributes  \n",
      "2      Dbxref=GeneID:132254911;Name=LOC132254911;desc...  \n",
      "44     Dbxref=GeneID:104879996;Name=LOC104879996;desc...  \n",
      "54     Dbxref=GeneID:132254321;Name=LOC132254321;desc...  \n",
      "55     Dbxref=GeneID:132252805;Name=LOC132252805;desc...  \n",
      "58     Dbxref=GeneID:104879311;Name=LOC104879311;desc...  \n",
      "...                                                  ...  \n",
      "26814  Dbxref=GeneID:109124022;Name=LOC109124022;desc...  \n",
      "26815  Dbxref=GeneID:100854523;Name=LOC100854523;desc...  \n",
      "26818  Dbxref=GeneID:104882024;Name=LOC104882024;desc...  \n",
      "26820  Dbxref=GeneID:100245342;Name=LOC100245342;desc...  \n",
      "26823  Dbxref=GeneID:132253512;Name=TRNAP-UGG;descrip...  \n",
      "\n",
      "[1268 rows x 13 columns]\n"
     ]
    }
   ],
   "source": [
    "# Filter the rows where asm_seq_id is different from ref_seq_id\n",
    "diff_seq_id_df = merged[merged['asm_seq_id'] != merged['ref_seq_id']]\n",
    "\n",
    "# Print the filtered DataFrame\n",
    "print(diff_seq_id_df)\n"
   ]
  },
  {
   "cell_type": "code",
   "execution_count": 10,
   "metadata": {},
   "outputs": [],
   "source": [
    "# Save the filtered DataFrame to a new variable\n",
    "filtered_df = diff_seq_id_df\n",
    "\n",
    "# Optionally, save the filtered DataFrame to a CSV file\n",
    "filtered_df.to_csv('traslocations_primary.csv', index=False)"
   ]
  },
  {
   "cell_type": "code",
   "execution_count": 11,
   "metadata": {},
   "outputs": [],
   "source": [
    "# Upload assembly gff file\n",
    "asm = gffpd.read_gff3(\"adj_hap1.fasta_liftoff_out.gff3\")\n",
    "# Retain only gene features in assembly gff file\n",
    "gene_asm = asm.filter_feature_of_type(['gene']).to_tsv('hap1_temp.tsv')\n",
    "gene_asm = pd.read_table('hap1_temp.tsv')\n",
    "# Split attributes column into two columns\n",
    "gene_asm[['gene_id', 'attributes']] = gene_asm['attributes'].str.split(pat=';', expand=True, n=1)\n",
    "# Filter columns to retain only gene_id, seq_id, type, start, end, strand\n",
    "gene_asm_filt = gene_asm.filter(['seq_id', 'type', 'start', 'end', 'strand', 'gene_id'])\n",
    "# add 'asm' prefix to column names\n",
    "gene_asm_filt = gene_asm_filt.add_prefix('asm_')"
   ]
  },
  {
   "cell_type": "code",
   "execution_count": 12,
   "metadata": {},
   "outputs": [
    {
     "name": "stdout",
     "output_type": "stream",
     "text": [
      "              asm_seq_id asm_type  asm_start   asm_end asm_strand  \\\n",
      "0      HAP1_scaffold_102     gene       5976     14947          -   \n",
      "1      HAP1_scaffold_104     gene      15787     18487          +   \n",
      "2      HAP1_scaffold_106     gene      21770     24500          +   \n",
      "3      HAP1_scaffold_106     gene      25614     26952          -   \n",
      "4      HAP1_scaffold_106     gene      54068     55090          -   \n",
      "...                  ...      ...        ...       ...        ...   \n",
      "26951             chr_04     gene   26176444  26183701          -   \n",
      "26952             chr_04     gene   26196737  26197791          -   \n",
      "26953             chr_04     gene   26203407  26207802          -   \n",
      "26954             chr_04     gene   26233543  26234383          +   \n",
      "26955             chr_04     gene   26240154  26241656          -   \n",
      "\n",
      "                asm_gene_id  \n",
      "0      ID=gene-LOC100256473  \n",
      "1      ID=gene-LOC109124167  \n",
      "2      ID=gene-LOC100242403  \n",
      "3      ID=gene-LOC100264688  \n",
      "4      ID=gene-LOC132254857  \n",
      "...                     ...  \n",
      "26951  ID=gene-LOC100254265  \n",
      "26952  ID=gene-LOC100250983  \n",
      "26953  ID=gene-LOC100852869  \n",
      "26954  ID=gene-LOC100242274  \n",
      "26955  ID=gene-LOC132253599  \n",
      "\n",
      "[26956 rows x 6 columns]\n"
     ]
    }
   ],
   "source": [
    "print(gene_asm_filt)"
   ]
  },
  {
   "cell_type": "code",
   "execution_count": 13,
   "metadata": {},
   "outputs": [
    {
     "name": "stdout",
     "output_type": "stream",
     "text": [
      "      ref_seq_id ref_type  ref_start   ref_end ref_strand  \\\n",
      "0         chr_01     gene      16041     32947          +   \n",
      "1         chr_01     gene      37289     41411          +   \n",
      "2         chr_01     gene      53915     63050          +   \n",
      "3         chr_01     gene      66246     66840          -   \n",
      "4         chr_01     gene      88278    104293          -   \n",
      "...          ...      ...        ...       ...        ...   \n",
      "27899     chr_19     gene   27035382  27035763          +   \n",
      "27900     chr_19     gene   27043031  27063568          +   \n",
      "27901     chr_19     gene   27064010  27078905          +   \n",
      "27902     chr_19     gene   27111234  27121227          +   \n",
      "27903     chr_19     gene   27143977  27145739          -   \n",
      "\n",
      "                ref_gene_id                                     ref_attributes  \n",
      "0      ID=gene-LOC104879287  Dbxref=GeneID:104879287;Name=LOC104879287;desc...  \n",
      "1      ID=gene-LOC100259472  Dbxref=GeneID:100259472;Name=LOC100259472;desc...  \n",
      "2      ID=gene-LOC100257674  Dbxref=GeneID:100257674;Name=LOC100257674;desc...  \n",
      "3      ID=gene-LOC104879282  Dbxref=GeneID:104879282;Name=LOC104879282;desc...  \n",
      "4      ID=gene-LOC100254292  Dbxref=GeneID:100254292;Name=LOC100254292;desc...  \n",
      "...                     ...                                                ...  \n",
      "27899  ID=gene-LOC100265574  Dbxref=GeneID:100265574;Name=LOC100265574;desc...  \n",
      "27900  ID=gene-LOC100260359  Dbxref=GeneID:100260359;Name=LOC100260359;desc...  \n",
      "27901  ID=gene-LOC100258729  Dbxref=GeneID:100258729;Name=LOC100258729;desc...  \n",
      "27902  ID=gene-LOC100248481  Dbxref=GeneID:100248481;Name=LOC100248481;desc...  \n",
      "27903  ID=gene-LOC100255276  Dbxref=GeneID:100255276;Name=LOC100255276;desc...  \n",
      "\n",
      "[27904 rows x 7 columns]\n"
     ]
    }
   ],
   "source": [
    "print(gene_ref_filt)"
   ]
  },
  {
   "cell_type": "code",
   "execution_count": 14,
   "metadata": {},
   "outputs": [],
   "source": [
    "# merge filtered reference and assembly gff files and sort by ref_seq_id and ref_start\n",
    "merged = pd.merge(gene_asm_filt, gene_ref_filt, how=\"inner\", left_on='asm_gene_id', right_on='ref_gene_id')"
   ]
  },
  {
   "cell_type": "code",
   "execution_count": 15,
   "metadata": {},
   "outputs": [
    {
     "name": "stdout",
     "output_type": "stream",
     "text": [
      "              asm_seq_id asm_type  asm_start   asm_end asm_strand  \\\n",
      "0      HAP1_scaffold_102     gene       5976     14947          -   \n",
      "1      HAP1_scaffold_104     gene      15787     18487          +   \n",
      "2      HAP1_scaffold_106     gene      21770     24500          +   \n",
      "3      HAP1_scaffold_106     gene      25614     26952          -   \n",
      "4      HAP1_scaffold_106     gene      54068     55090          -   \n",
      "...                  ...      ...        ...       ...        ...   \n",
      "26847             chr_04     gene   26176444  26183701          -   \n",
      "26848             chr_04     gene   26196737  26197791          -   \n",
      "26849             chr_04     gene   26203407  26207802          -   \n",
      "26850             chr_04     gene   26233543  26234383          +   \n",
      "26851             chr_04     gene   26240154  26241656          -   \n",
      "\n",
      "                asm_gene_id ref_seq_id ref_type  ref_start   ref_end  \\\n",
      "0      ID=gene-LOC100256473     chr_04     gene   10242714  10251672   \n",
      "1      ID=gene-LOC109124167     chr_16     gene    8674199   8676900   \n",
      "2      ID=gene-LOC100242403     chr_07     gene   27824292  27827016   \n",
      "3      ID=gene-LOC100264688     chr_07     gene   27804212  27805550   \n",
      "4      ID=gene-LOC132254857     chr_13     gene    7422460   7423482   \n",
      "...                     ...        ...      ...        ...       ...   \n",
      "26847  ID=gene-LOC100254265     chr_04     gene      75156     86486   \n",
      "26848  ID=gene-LOC100250983     chr_04     gene      61103     62157   \n",
      "26849  ID=gene-LOC100852869     chr_04     gene      51088     55483   \n",
      "26850  ID=gene-LOC100242274     chr_04     gene      17447     18286   \n",
      "26851  ID=gene-LOC132253599     chr_04     gene      10174     11676   \n",
      "\n",
      "      ref_strand           ref_gene_id  \\\n",
      "0              -  ID=gene-LOC100256473   \n",
      "1              -  ID=gene-LOC109124167   \n",
      "2              +  ID=gene-LOC100242403   \n",
      "3              -  ID=gene-LOC100264688   \n",
      "4              -  ID=gene-LOC132254857   \n",
      "...          ...                   ...   \n",
      "26847          +  ID=gene-LOC100254265   \n",
      "26848          +  ID=gene-LOC100250983   \n",
      "26849          +  ID=gene-LOC100852869   \n",
      "26850          -  ID=gene-LOC100242274   \n",
      "26851          +  ID=gene-LOC132253599   \n",
      "\n",
      "                                          ref_attributes  \n",
      "0      Dbxref=GeneID:100256473;Name=LOC100256473;desc...  \n",
      "1      Dbxref=GeneID:109124167;Name=LOC109124167;desc...  \n",
      "2      Dbxref=GeneID:100242403;Name=LOC100242403;desc...  \n",
      "3      Dbxref=GeneID:100264688;Name=LOC100264688;desc...  \n",
      "4      Dbxref=GeneID:132254857;Name=LOC132254857;desc...  \n",
      "...                                                  ...  \n",
      "26847  Dbxref=GeneID:100254265;Name=LOC100254265;desc...  \n",
      "26848  Dbxref=GeneID:100250983;Name=LOC100250983;desc...  \n",
      "26849  Dbxref=GeneID:100852869;Name=LOC100852869;desc...  \n",
      "26850  Dbxref=GeneID:100242274;Name=LOC100242274;desc...  \n",
      "26851  Dbxref=GeneID:132253599;Name=LOC132253599;desc...  \n",
      "\n",
      "[26852 rows x 13 columns]\n"
     ]
    }
   ],
   "source": [
    "print(merged)"
   ]
  },
  {
   "cell_type": "code",
   "execution_count": 16,
   "metadata": {},
   "outputs": [
    {
     "name": "stdout",
     "output_type": "stream",
     "text": [
      "asm_seq_id\n",
      "HAP1_scaffold_102       1\n",
      "HAP1_scaffold_104       1\n",
      "HAP1_scaffold_106       3\n",
      "HAP1_scaffold_108       1\n",
      "HAP1_scaffold_125       7\n",
      "                     ... \n",
      "chr_15                976\n",
      "chr_16               1137\n",
      "chr_17               1266\n",
      "chr_18               2106\n",
      "chr_19               1212\n",
      "Length: 133, dtype: int64\n"
     ]
    }
   ],
   "source": [
    "# Group by 'asm_seq_id' and count the number of rows in each group\n",
    "row_counts = merged.groupby('asm_seq_id').size()\n",
    "\n",
    "# Print the result\n",
    "print(row_counts)"
   ]
  },
  {
   "cell_type": "code",
   "execution_count": 17,
   "metadata": {},
   "outputs": [],
   "source": [
    "#save row count to tsv\n",
    "row_counts.to_csv('row_counts_hap1.tsv', sep='\\t')"
   ]
  },
  {
   "cell_type": "code",
   "execution_count": 18,
   "metadata": {},
   "outputs": [
    {
     "name": "stdout",
     "output_type": "stream",
     "text": [
      "              asm_seq_id asm_type  asm_start   asm_end asm_strand  \\\n",
      "0      HAP1_scaffold_102     gene       5976     14947          -   \n",
      "1      HAP1_scaffold_104     gene      15787     18487          +   \n",
      "2      HAP1_scaffold_106     gene      21770     24500          +   \n",
      "3      HAP1_scaffold_106     gene      25614     26952          -   \n",
      "4      HAP1_scaffold_106     gene      54068     55090          -   \n",
      "...                  ...      ...        ...       ...        ...   \n",
      "26634             chr_04     gene   24162079  24165074          +   \n",
      "26646             chr_04     gene   24260382  24260903          +   \n",
      "26647             chr_04     gene   24263936  24264307          -   \n",
      "26718             chr_04     gene   24940049  24942006          +   \n",
      "26719             chr_04     gene   24942183  24948696          +   \n",
      "\n",
      "                asm_gene_id ref_seq_id ref_type  ref_start   ref_end  \\\n",
      "0      ID=gene-LOC100256473     chr_04     gene   10242714  10251672   \n",
      "1      ID=gene-LOC109124167     chr_16     gene    8674199   8676900   \n",
      "2      ID=gene-LOC100242403     chr_07     gene   27824292  27827016   \n",
      "3      ID=gene-LOC100264688     chr_07     gene   27804212  27805550   \n",
      "4      ID=gene-LOC132254857     chr_13     gene    7422460   7423482   \n",
      "...                     ...        ...      ...        ...       ...   \n",
      "26634  ID=gene-LOC104880586     chr_10     gene   25104628  25107631   \n",
      "26646  ID=gene-LOC104880925     chr_12     gene    9272008   9272531   \n",
      "26647  ID=gene-LOC132253175     chr_18     gene   34160900  34161271   \n",
      "26718  ID=gene-LOC132254858     chr_02     gene   11444254  11446235   \n",
      "26719  ID=gene-LOC132254324     chr_09     gene   18472700  18479171   \n",
      "\n",
      "      ref_strand           ref_gene_id  \\\n",
      "0              -  ID=gene-LOC100256473   \n",
      "1              -  ID=gene-LOC109124167   \n",
      "2              +  ID=gene-LOC100242403   \n",
      "3              -  ID=gene-LOC100264688   \n",
      "4              -  ID=gene-LOC132254857   \n",
      "...          ...                   ...   \n",
      "26634          -  ID=gene-LOC104880586   \n",
      "26646          +  ID=gene-LOC104880925   \n",
      "26647          -  ID=gene-LOC132253175   \n",
      "26718          -  ID=gene-LOC132254858   \n",
      "26719          +  ID=gene-LOC132254324   \n",
      "\n",
      "                                          ref_attributes  \n",
      "0      Dbxref=GeneID:100256473;Name=LOC100256473;desc...  \n",
      "1      Dbxref=GeneID:109124167;Name=LOC109124167;desc...  \n",
      "2      Dbxref=GeneID:100242403;Name=LOC100242403;desc...  \n",
      "3      Dbxref=GeneID:100264688;Name=LOC100264688;desc...  \n",
      "4      Dbxref=GeneID:132254857;Name=LOC132254857;desc...  \n",
      "...                                                  ...  \n",
      "26634  Dbxref=GeneID:104880586;Name=LOC104880586;desc...  \n",
      "26646  Dbxref=GeneID:104880925;Name=LOC104880925;desc...  \n",
      "26647  Dbxref=GeneID:132253175;Name=LOC132253175;desc...  \n",
      "26718  Dbxref=GeneID:132254858;Name=LOC132254858;desc...  \n",
      "26719  Dbxref=GeneID:132254324;Name=LOC132254324;desc...  \n",
      "\n",
      "[1449 rows x 13 columns]\n"
     ]
    }
   ],
   "source": [
    "# Filter the rows where asm_seq_id is different from ref_seq_id\n",
    "diff_seq_id_df = merged[merged['asm_seq_id'] != merged['ref_seq_id']]\n",
    "\n",
    "# Print the filtered DataFrame\n",
    "print(diff_seq_id_df)"
   ]
  },
  {
   "cell_type": "code",
   "execution_count": 19,
   "metadata": {},
   "outputs": [],
   "source": [
    "# Save the filtered DataFrame to a new variable\n",
    "filtered_df = diff_seq_id_df\n",
    "\n",
    "# Optionally, save the filtered DataFrame to a CSV file\n",
    "filtered_df.to_csv('traslocations_hap1.csv', index=False)"
   ]
  },
  {
   "cell_type": "code",
   "execution_count": 29,
   "metadata": {},
   "outputs": [],
   "source": [
    "# Upload assembly gff file\n",
    "asm = gffpd.read_gff3(\"adj_hap2.fasta_liftoff_out.gff3\")\n",
    "# Retain only gene features in assembly gff file\n",
    "gene_asm = asm.filter_feature_of_type(['gene']).to_tsv('hap2_temp.tsv')\n",
    "gene_asm = pd.read_table('hap2_temp.tsv')\n",
    "# Split attributes column into two columns\n",
    "gene_asm[['gene_id', 'attributes']] = gene_asm['attributes'].str.split(pat=';', expand=True, n=1)\n",
    "# Filter columns to retain only gene_id, seq_id, type, start, end, strand\n",
    "gene_asm_filt = gene_asm.filter(['seq_id', 'type', 'start', 'end', 'strand', 'gene_id'])\n",
    "# add 'asm' prefix to column names\n",
    "gene_asm_filt = gene_asm_filt.add_prefix('asm_')"
   ]
  },
  {
   "cell_type": "code",
   "execution_count": 30,
   "metadata": {},
   "outputs": [
    {
     "name": "stdout",
     "output_type": "stream",
     "text": [
      "              asm_seq_id asm_type  asm_start   asm_end asm_strand  \\\n",
      "0      HAP2_scaffold_100     gene      48244     49143          -   \n",
      "1      HAP2_scaffold_100     gene      49624     50991          -   \n",
      "2      HAP2_scaffold_103     gene      20992     22203          +   \n",
      "3      HAP2_scaffold_103     gene      64641     66090          -   \n",
      "4      HAP2_scaffold_105     gene      20149     23402          -   \n",
      "...                  ...      ...        ...       ...        ...   \n",
      "27031             chr_10     gene   25289839  25293214          -   \n",
      "27032             chr_10     gene   25295813  25299698          +   \n",
      "27033             chr_10     gene   25304475  25307598          +   \n",
      "27034             chr_10     gene   25308893  25311988          +   \n",
      "27035             chr_10     gene   25319606  25321991          +   \n",
      "\n",
      "                asm_gene_id  \n",
      "0      ID=gene-LOC109123996  \n",
      "1      ID=gene-LOC104877469  \n",
      "2      ID=gene-LOC104878040  \n",
      "3      ID=gene-LOC100265481  \n",
      "4      ID=gene-LOC100261161  \n",
      "...                     ...  \n",
      "27031  ID=gene-LOC100250298  \n",
      "27032  ID=gene-LOC132254423  \n",
      "27033  ID=gene-LOC100257214  \n",
      "27034  ID=gene-LOC109121465  \n",
      "27035  ID=gene-LOC100253788  \n",
      "\n",
      "[27036 rows x 6 columns]\n"
     ]
    }
   ],
   "source": [
    "print(gene_asm_filt)"
   ]
  },
  {
   "cell_type": "code",
   "execution_count": 31,
   "metadata": {},
   "outputs": [
    {
     "name": "stdout",
     "output_type": "stream",
     "text": [
      "      ref_seq_id ref_type  ref_start   ref_end ref_strand  \\\n",
      "0         chr_01     gene      16041     32947          +   \n",
      "1         chr_01     gene      37289     41411          +   \n",
      "2         chr_01     gene      53915     63050          +   \n",
      "3         chr_01     gene      66246     66840          -   \n",
      "4         chr_01     gene      88278    104293          -   \n",
      "...          ...      ...        ...       ...        ...   \n",
      "27899     chr_19     gene   27035382  27035763          +   \n",
      "27900     chr_19     gene   27043031  27063568          +   \n",
      "27901     chr_19     gene   27064010  27078905          +   \n",
      "27902     chr_19     gene   27111234  27121227          +   \n",
      "27903     chr_19     gene   27143977  27145739          -   \n",
      "\n",
      "                ref_gene_id                                     ref_attributes  \n",
      "0      ID=gene-LOC104879287  Dbxref=GeneID:104879287;Name=LOC104879287;desc...  \n",
      "1      ID=gene-LOC100259472  Dbxref=GeneID:100259472;Name=LOC100259472;desc...  \n",
      "2      ID=gene-LOC100257674  Dbxref=GeneID:100257674;Name=LOC100257674;desc...  \n",
      "3      ID=gene-LOC104879282  Dbxref=GeneID:104879282;Name=LOC104879282;desc...  \n",
      "4      ID=gene-LOC100254292  Dbxref=GeneID:100254292;Name=LOC100254292;desc...  \n",
      "...                     ...                                                ...  \n",
      "27899  ID=gene-LOC100265574  Dbxref=GeneID:100265574;Name=LOC100265574;desc...  \n",
      "27900  ID=gene-LOC100260359  Dbxref=GeneID:100260359;Name=LOC100260359;desc...  \n",
      "27901  ID=gene-LOC100258729  Dbxref=GeneID:100258729;Name=LOC100258729;desc...  \n",
      "27902  ID=gene-LOC100248481  Dbxref=GeneID:100248481;Name=LOC100248481;desc...  \n",
      "27903  ID=gene-LOC100255276  Dbxref=GeneID:100255276;Name=LOC100255276;desc...  \n",
      "\n",
      "[27904 rows x 7 columns]\n"
     ]
    }
   ],
   "source": [
    "print(gene_ref_filt)"
   ]
  },
  {
   "cell_type": "code",
   "execution_count": 33,
   "metadata": {},
   "outputs": [],
   "source": [
    "# merge filtered reference and assembly gff files and sort by ref_seq_id and ref_start\n",
    "merged = pd.merge(gene_asm_filt, gene_ref_filt, how=\"inner\", left_on='asm_gene_id', right_on='ref_gene_id')"
   ]
  },
  {
   "cell_type": "code",
   "execution_count": 34,
   "metadata": {},
   "outputs": [
    {
     "name": "stdout",
     "output_type": "stream",
     "text": [
      "              asm_seq_id asm_type  asm_start   asm_end asm_strand  \\\n",
      "0      HAP2_scaffold_100     gene      48244     49143          -   \n",
      "1      HAP2_scaffold_100     gene      49624     50991          -   \n",
      "2      HAP2_scaffold_103     gene      20992     22203          +   \n",
      "3      HAP2_scaffold_103     gene      64641     66090          -   \n",
      "4      HAP2_scaffold_105     gene      20149     23402          -   \n",
      "...                  ...      ...        ...       ...        ...   \n",
      "26908             chr_10     gene   25289839  25293214          -   \n",
      "26909             chr_10     gene   25295813  25299698          +   \n",
      "26910             chr_10     gene   25304475  25307598          +   \n",
      "26911             chr_10     gene   25308893  25311988          +   \n",
      "26912             chr_10     gene   25319606  25321991          +   \n",
      "\n",
      "                asm_gene_id ref_seq_id ref_type  ref_start   ref_end  \\\n",
      "0      ID=gene-LOC109123996     chr_15     gene   18598753  18607538   \n",
      "1      ID=gene-LOC104877469     chr_18     gene   35380029  35381396   \n",
      "2      ID=gene-LOC104878040     chr_15     gene    5183988   5185199   \n",
      "3      ID=gene-LOC100265481     chr_15     gene    5224421   5225870   \n",
      "4      ID=gene-LOC100261161     chr_10     gene   26639467  26642689   \n",
      "...                     ...        ...      ...        ...       ...   \n",
      "26908  ID=gene-LOC100250298     chr_10     gene     262001    265536   \n",
      "26909  ID=gene-LOC132254423     chr_10     gene       6573     10784   \n",
      "26910  ID=gene-LOC100257214     chr_10     gene     220525    223659   \n",
      "26911  ID=gene-LOC109121465     chr_10     gene     215755    218849   \n",
      "26912  ID=gene-LOC100253788     chr_10     gene     180100    182488   \n",
      "\n",
      "      ref_strand           ref_gene_id  \\\n",
      "0              -  ID=gene-LOC109123996   \n",
      "1              -  ID=gene-LOC104877469   \n",
      "2              +  ID=gene-LOC104878040   \n",
      "3              -  ID=gene-LOC100265481   \n",
      "4              +  ID=gene-LOC100261161   \n",
      "...          ...                   ...   \n",
      "26908          +  ID=gene-LOC100250298   \n",
      "26909          -  ID=gene-LOC132254423   \n",
      "26910          -  ID=gene-LOC100257214   \n",
      "26911          -  ID=gene-LOC109121465   \n",
      "26912          -  ID=gene-LOC100253788   \n",
      "\n",
      "                                          ref_attributes  \n",
      "0      Dbxref=GeneID:109123996;Name=LOC109123996;desc...  \n",
      "1      Dbxref=GeneID:104877469;Name=LOC104877469;desc...  \n",
      "2      Dbxref=GeneID:104878040;Name=LOC104878040;desc...  \n",
      "3      Dbxref=GeneID:100265481;Name=LOC100265481;desc...  \n",
      "4      Dbxref=GeneID:100261161;Name=LOC100261161;desc...  \n",
      "...                                                  ...  \n",
      "26908  Dbxref=GeneID:100250298;Name=LOC100250298;desc...  \n",
      "26909  Dbxref=GeneID:132254423;Name=LOC132254423;desc...  \n",
      "26910  Dbxref=GeneID:100257214;Name=LOC100257214;desc...  \n",
      "26911  Dbxref=GeneID:109121465;Name=LOC109121465;desc...  \n",
      "26912  Dbxref=GeneID:100253788;Name=LOC100253788;desc...  \n",
      "\n",
      "[26913 rows x 13 columns]\n"
     ]
    }
   ],
   "source": [
    "print(merged)"
   ]
  },
  {
   "cell_type": "code",
   "execution_count": 35,
   "metadata": {},
   "outputs": [
    {
     "name": "stdout",
     "output_type": "stream",
     "text": [
      "asm_seq_id\n",
      "HAP2_scaffold_100       2\n",
      "HAP2_scaffold_103       2\n",
      "HAP2_scaffold_105       4\n",
      "HAP2_scaffold_110       4\n",
      "HAP2_scaffold_115       1\n",
      "                     ... \n",
      "chr_15                952\n",
      "chr_16               1169\n",
      "chr_17               1244\n",
      "chr_18               2077\n",
      "chr_19               1163\n",
      "Length: 151, dtype: int64\n"
     ]
    }
   ],
   "source": [
    "# Group by 'asm_seq_id' and count the number of rows in each group\n",
    "row_counts = merged.groupby('asm_seq_id').size()\n",
    "\n",
    "# Print the result\n",
    "print(row_counts)"
   ]
  },
  {
   "cell_type": "code",
   "execution_count": 36,
   "metadata": {},
   "outputs": [],
   "source": [
    "#save row count to tsv\n",
    "row_counts.to_csv('row_counts_hap2.tsv', sep='\\t')"
   ]
  },
  {
   "cell_type": "code",
   "execution_count": 37,
   "metadata": {},
   "outputs": [
    {
     "name": "stdout",
     "output_type": "stream",
     "text": [
      "              asm_seq_id asm_type  asm_start   asm_end asm_strand  \\\n",
      "0      HAP2_scaffold_100     gene      48244     49143          -   \n",
      "1      HAP2_scaffold_100     gene      49624     50991          -   \n",
      "2      HAP2_scaffold_103     gene      20992     22203          +   \n",
      "3      HAP2_scaffold_103     gene      64641     66090          -   \n",
      "4      HAP2_scaffold_105     gene      20149     23402          -   \n",
      "...                  ...      ...        ...       ...        ...   \n",
      "26705             chr_10     gene   23399415  23400161          +   \n",
      "26757             chr_10     gene   23901149  23901782          -   \n",
      "26759             chr_10     gene   23941366  23941777          -   \n",
      "26828             chr_10     gene   24615059  24617033          +   \n",
      "26829             chr_10     gene   24617131  24618539          +   \n",
      "\n",
      "                asm_gene_id ref_seq_id ref_type  ref_start   ref_end  \\\n",
      "0      ID=gene-LOC109123996     chr_15     gene   18598753  18607538   \n",
      "1      ID=gene-LOC104877469     chr_18     gene   35380029  35381396   \n",
      "2      ID=gene-LOC104878040     chr_15     gene    5183988   5185199   \n",
      "3      ID=gene-LOC100265481     chr_15     gene    5224421   5225870   \n",
      "4      ID=gene-LOC100261161     chr_10     gene   26639467  26642689   \n",
      "...                     ...        ...      ...        ...       ...   \n",
      "26705  ID=gene-LOC109124301     chr_17     gene    2695211   2695957   \n",
      "26757  ID=gene-LOC104878818     chr_11     gene    7128825   7139571   \n",
      "26759  ID=gene-LOC132255073     chr_14     gene   18339039  18341993   \n",
      "26828  ID=gene-LOC104877481     chr_19     gene     684129    686104   \n",
      "26829  ID=gene-LOC132253735     chr_05     gene    2142054   2143462   \n",
      "\n",
      "      ref_strand           ref_gene_id  \\\n",
      "0              -  ID=gene-LOC109123996   \n",
      "1              -  ID=gene-LOC104877469   \n",
      "2              +  ID=gene-LOC104878040   \n",
      "3              -  ID=gene-LOC100265481   \n",
      "4              +  ID=gene-LOC100261161   \n",
      "...          ...                   ...   \n",
      "26705          +  ID=gene-LOC109124301   \n",
      "26757          +  ID=gene-LOC104878818   \n",
      "26759          -  ID=gene-LOC132255073   \n",
      "26828          +  ID=gene-LOC104877481   \n",
      "26829          +  ID=gene-LOC132253735   \n",
      "\n",
      "                                          ref_attributes  \n",
      "0      Dbxref=GeneID:109123996;Name=LOC109123996;desc...  \n",
      "1      Dbxref=GeneID:104877469;Name=LOC104877469;desc...  \n",
      "2      Dbxref=GeneID:104878040;Name=LOC104878040;desc...  \n",
      "3      Dbxref=GeneID:100265481;Name=LOC100265481;desc...  \n",
      "4      Dbxref=GeneID:100261161;Name=LOC100261161;desc...  \n",
      "...                                                  ...  \n",
      "26705  Dbxref=GeneID:109124301;Name=LOC109124301;desc...  \n",
      "26757  Dbxref=GeneID:104878818;Name=LOC104878818;desc...  \n",
      "26759  Dbxref=GeneID:132255073;Name=LOC132255073;desc...  \n",
      "26828  Dbxref=GeneID:104877481;Name=LOC104877481;desc...  \n",
      "26829  Dbxref=GeneID:132253735;Name=LOC132253735;desc...  \n",
      "\n",
      "[1689 rows x 13 columns]\n"
     ]
    }
   ],
   "source": [
    "# Filter the rows where asm_seq_id is different from ref_seq_id\n",
    "diff_seq_id_df = merged[merged['asm_seq_id'] != merged['ref_seq_id']]\n",
    "\n",
    "# Print the filtered DataFrame\n",
    "print(diff_seq_id_df)"
   ]
  },
  {
   "cell_type": "code",
   "execution_count": 38,
   "metadata": {},
   "outputs": [],
   "source": [
    "# Save the filtered DataFrame to a new variable\n",
    "filtered_df = diff_seq_id_df\n",
    "\n",
    "# Optionally, save the filtered DataFrame to a CSV file\n",
    "filtered_df.to_csv('traslocations_hap2.csv', index=False)"
   ]
  }
 ],
 "metadata": {
  "kernelspec": {
   "display_name": "base",
   "language": "python",
   "name": "python3"
  },
  "language_info": {
   "codemirror_mode": {
    "name": "ipython",
    "version": 3
   },
   "file_extension": ".py",
   "mimetype": "text/x-python",
   "name": "python",
   "nbconvert_exporter": "python",
   "pygments_lexer": "ipython3",
   "version": "3.12.4"
  }
 },
 "nbformat": 4,
 "nbformat_minor": 2
}
